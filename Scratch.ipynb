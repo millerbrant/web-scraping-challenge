{
 "cells": [
  {
   "cell_type": "code",
   "execution_count": 58,
   "metadata": {},
   "outputs": [],
   "source": [
    "# Dependencies\n",
    "import os\n",
    "from bs4 import BeautifulSoup as bs\n",
    "import requests\n",
    "from splinter import Browser\n",
    "import pandas as pd"
   ]
  },
  {
   "cell_type": "code",
   "execution_count": 59,
   "metadata": {},
   "outputs": [],
   "source": [
    "executable_path = {'executable_path': 'chromedriver.exe'}\n",
    "browser = Browser('chrome', **executable_path, headless=False)"
   ]
  },
  {
   "cell_type": "code",
   "execution_count": 54,
   "metadata": {},
   "outputs": [],
   "source": [
    "mars_news_url = 'https://mars.nasa.gov/news/'\n",
    "browser.visit(mars_news_url)\n",
    "html = browser.html\n",
    "soup = bs(html, 'html.parser')"
   ]
  },
  {
   "cell_type": "code",
   "execution_count": 8,
   "metadata": {},
   "outputs": [
    {
     "name": "stdout",
     "output_type": "stream",
     "text": [
      "An instrument called SHERLOC will, with the help of its partner WATSON, hunt for signs of ancient life by detecting organic molecules and minerals.\n"
     ]
    }
   ],
   "source": [
    "# Headline text\n",
    "headline_exp = soup.find('div', class_=\"article_teaser_body\").text\n",
    "print(headline_exp)\n",
    "\n",
    "# Headline link and url\n",
    "headline_link = soup.find('div', class_='list_text').find('div', class_='content_title')\n",
    "headline_text = headline_link.text\n",
    "headline_url = 'https://mars.nasa.gov/'+headline_link.a['href']\n",
    "\n",
    "# kill browser\n",
    "#browser.quit\n"
   ]
  },
  {
   "cell_type": "code",
   "execution_count": 9,
   "metadata": {},
   "outputs": [],
   "source": [
    "# Headline link and url\n",
    "headline_link = soup.find('div', class_='list_text').find('div', class_='content_title')\n",
    "headline_text = headline_link.text\n",
    "headline_url = 'https://mars.nasa.gov/'+headline_link.a['href']"
   ]
  },
  {
   "cell_type": "code",
   "execution_count": 10,
   "metadata": {},
   "outputs": [
    {
     "name": "stdout",
     "output_type": "stream",
     "text": [
      "https://mars.nasa.gov//news/8678/the-detective-aboard-nasas-perseverance-rover/\n",
      "The Detective Aboard NASA's Perseverance Rover\n"
     ]
    }
   ],
   "source": [
    "print(headline_url)\n",
    "print(headline_text)"
   ]
  },
  {
   "cell_type": "code",
   "execution_count": null,
   "metadata": {},
   "outputs": [],
   "source": []
  },
  {
   "cell_type": "code",
   "execution_count": 11,
   "metadata": {},
   "outputs": [],
   "source": [
    "# Checks JPL image\n",
    "jpl_img_url = 'https://www.jpl.nasa.gov/spaceimages/?search=&category=Mars'\n",
    "#browser = Browser('chrome', **executable_path, headless=False)\n",
    "browser.visit(jpl_img_url)\n",
    "html = browser.html\n",
    "soup = bs(html, 'html.parser')\n",
    "jpl_image_url = 'https://www.jpl.nasa.gov/'+soup.footer.find('a', class_='button fancybox')['data-fancybox-href']\n",
    "# must kill browser instance with browser.quit"
   ]
  },
  {
   "cell_type": "code",
   "execution_count": 12,
   "metadata": {},
   "outputs": [
    {
     "name": "stdout",
     "output_type": "stream",
     "text": [
      "https://www.jpl.nasa.gov//spaceimages/images/mediumsize/PIA19180_ip.jpg\n"
     ]
    }
   ],
   "source": [
    "# returns object: browser.links.find_by_href('https://www.jpl.nasa.gov/spaceimages/?search=&category=Mars')\n",
    "jpl_image_url_out = 'https://www.jpl.nasa.gov/'+soup.footer.find('a', class_='button fancybox')['data-fancybox-href']\n",
    "print(jpl_image_url_out)"
   ]
  },
  {
   "cell_type": "code",
   "execution_count": null,
   "metadata": {},
   "outputs": [],
   "source": [
    "browser.links.find_by_text('MENU').click"
   ]
  },
  {
   "cell_type": "code",
   "execution_count": null,
   "metadata": {},
   "outputs": [],
   "source": [
    "# Iterate through all pages\n",
    "for x in range(50):\n",
    "    # HTML object\n",
    "    html = browser.html\n",
    "    # Parse HTML with Beautiful Soup\n",
    "    soup = BeautifulSoup(html, 'html.parser')\n",
    "    # Retrieve all elements that contain book information\n",
    "    articles = soup.find_all('article', class_='product_pod')\n",
    "\n",
    "    # Iterate through each book\n",
    "    for article in articles:\n",
    "        # Use Beautiful Soup's find() method to navigate and retrieve attributes\n",
    "        h3 = article.find('h3')\n",
    "        link = h3.find('a')\n",
    "        href = link['href']\n",
    "        title = link['title']\n",
    "        print('-----------')\n",
    "        print(title)\n",
    "        print('http://books.toscrape.com/' + href)\n",
    "\n",
    "    # Click the 'Next' button on each page\n",
    "    try:\n",
    "        browser.click_link_by_partial_text('full image')\n",
    "          \n",
    "    except:\n",
    "        print(\"Scraping Complete\")"
   ]
  },
  {
   "cell_type": "code",
   "execution_count": 15,
   "metadata": {},
   "outputs": [],
   "source": [
    "# Link to mars facts\n",
    "mars_facts_url = 'https://space-facts.com/mars/'\n",
    "#browser = Browser('chrome', **executable_path, headless=False)\n",
    "browser.visit(mars_facts_url)\n",
    "html = browser.html\n",
    "soup = bs(html, 'html.parser')"
   ]
  },
  {
   "cell_type": "code",
   "execution_count": 16,
   "metadata": {},
   "outputs": [],
   "source": [
    "# stores mars facts table as two separate lists\n",
    "x = 1\n",
    "labels =[]\n",
    "values = []\n",
    "mars_table = soup.find('table', class_='tablepress tablepress-id-p-mars')\n",
    "for z in range(1,19):\n",
    "    mars_table = mars_table.find_next('td')\n",
    "    if x % 2 ==0:\n",
    "        values.append(mars_table.text)\n",
    "    else:\n",
    "        labels.append(mars_table.text)\n",
    "    x+=1"
   ]
  },
  {
   "cell_type": "code",
   "execution_count": 51,
   "metadata": {},
   "outputs": [
    {
     "data": {
      "text/plain": [
       "<bound method DataFrame.to_html of                     Type                           Fact\n",
       "0   Equatorial Diameter:                       6,792 km\n",
       "1        Polar Diameter:                       6,752 km\n",
       "2                  Mass:  6.39 × 10^23 kg (0.11 Earths)\n",
       "3                 Moons:            2 (Phobos & Deimos)\n",
       "4        Orbit Distance:       227,943,824 km (1.38 AU)\n",
       "5          Orbit Period:           687 days (1.9 years)\n",
       "6  Surface Temperature:                    -87 to -5 °C\n",
       "7          First Record:              2nd millennium BC\n",
       "8           Recorded By:           Egyptian astronomers>"
      ]
     },
     "execution_count": 51,
     "metadata": {},
     "output_type": "execute_result"
    }
   ],
   "source": [
    "facts_dict ={'Type':labels,'Fact':values}\n",
    "facts_df = pd.DataFrame(facts_dict)\n",
    "facts_html = facts_df.to_html"
   ]
  },
  {
   "cell_type": "code",
   "execution_count": null,
   "metadata": {},
   "outputs": [],
   "source": [
    "#hemis\n",
    "hemi_url = 'https://astrogeology.usgs.gov/search/results?q=hemisphere+enhanced&k1=target&v1=Mars'\n",
    "browser = Browser('chrome', **executable_path, headless=False)\n",
    "browser.visit(hemi_url)"
   ]
  },
  {
   "cell_type": "code",
   "execution_count": null,
   "metadata": {},
   "outputs": [],
   "source": [
    "browser.links.find_by_partial_text('Cerberus').first.click()\n",
    "html = browser.html\n",
    "soup = bs(html, 'html.parser')\n",
    "print(browser.url)"
   ]
  },
  {
   "cell_type": "code",
   "execution_count": null,
   "metadata": {},
   "outputs": [],
   "source": [
    "img_url = soup.find('div', class_='downloads').ul.li.a['href']\n",
    "print(cerb_img_url)"
   ]
  },
  {
   "cell_type": "code",
   "execution_count": 18,
   "metadata": {},
   "outputs": [],
   "source": [
    "# List of hemispheres\n",
    "hemis = ['Cerberus','Schiaparelli','Syrtis','Valles']\n",
    "\n",
    "# Empty list of img urls\n",
    "hemi_url_list = []\n",
    "\n",
    "# Open browser and visit main page\n",
    "hemi_url = 'https://astrogeology.usgs.gov/search/results?q=hemisphere+enhanced&k1=target&v1=Mars'\n",
    "browser = Browser('chrome', **executable_path, headless=True)\n",
    "browser.visit(hemi_url)\n",
    "\n",
    "# For loop to pull hemi images\n",
    "for h in hemis:\n",
    "    browser.links.find_by_partial_text(h).first.click()\n",
    "    html = browser.html\n",
    "    soup = bs(html, 'html.parser')\n",
    "    img_url = soup.find('div', class_='downloads').ul.li.a['href']\n",
    "    hemi_url_list.append(img_url)\n",
    "    browser.back"
   ]
  },
  {
   "cell_type": "code",
   "execution_count": 22,
   "metadata": {},
   "outputs": [],
   "source": [
    "# list of dictionaries containing image name and urls\n",
    "img_list = [{'title':hemis[0],'img_url':hemi_url_list[0]},\n",
    "            {'title':hemis[1],'img_url':hemi_url_list[1]},\n",
    "            {'title':hemis[2],'img_url':hemi_url_list[2]},\n",
    "            {'title':hemis[3],'img_url':hemi_url_list[3]}]\n"
   ]
  },
  {
   "cell_type": "code",
   "execution_count": 23,
   "metadata": {},
   "outputs": [
    {
     "name": "stdout",
     "output_type": "stream",
     "text": [
      "[{'title': 'Cerberus', 'img_url': 'https://astropedia.astrogeology.usgs.gov/download/Mars/Viking/cerberus_enhanced.tif/full.jpg'}, {'title': 'Schiaparelli', 'img_url': 'https://astropedia.astrogeology.usgs.gov/download/Mars/Viking/schiaparelli_unenhanced.tif/full.jpg'}, {'title': 'Syrtis', 'img_url': 'https://astropedia.astrogeology.usgs.gov/download/Mars/Viking/syrtis_major_unenhanced.tif/full.jpg'}, {'title': 'Valles', 'img_url': 'https://astropedia.astrogeology.usgs.gov/download/Mars/Viking/valles_marineris_unenhanced.tif/full.jpg'}]\n"
     ]
    }
   ],
   "source": [
    "print(img_list)"
   ]
  },
  {
   "cell_type": "code",
   "execution_count": 60,
   "metadata": {},
   "outputs": [],
   "source": [
    "# Twitter open and setup\n",
    "twitter_url = 'https://twitter.com/marswxreport?lang=en'\n",
    "#browser = Browser('chrome', **executable_path, headless=False)\n",
    "browser.visit(twitter_url)\n",
    "html = browser.html\n",
    "soup = bs(html, 'html.parser')\n",
    "\n",
    "# Finds all text and searches for first weather string, assigning it to weather_str variable\n",
    "mars_weather = soup.find_all(text=True)\n",
    "for w in mars_weather:\n",
    "    if w.find('InSight sol')!=-1:\n",
    "        weather_str = w\n",
    "        break"
   ]
  },
  {
   "cell_type": "code",
   "execution_count": 61,
   "metadata": {},
   "outputs": [
    {
     "name": "stdout",
     "output_type": "stream",
     "text": [
      "InSight sol 536 (2020-05-29) low -91.5ºC (-132.8ºF) high -7.3ºC (18.9ºF)\n",
      "winds from the SW at 5.9 m/s (13.2 mph) gusting to 20.0 m/s (44.8 mph)\n",
      "pressure at 7.20 hPa\n"
     ]
    }
   ],
   "source": [
    "print(weather_str)"
   ]
  },
  {
   "cell_type": "code",
   "execution_count": 32,
   "metadata": {},
   "outputs": [
    {
     "name": "stdout",
     "output_type": "stream",
     "text": [
      "Log in\n",
      "Sign up\n",
      "See new Tweets\n",
      "Follow\n",
      "Mars Weather\n",
      "Mars Weather\n",
      "@MarsWxReport\n",
      "Updates as avail from the REMS weather instrument aboard \n",
      ".  Data credit: Centro deAstrobiologia, FMI, JPL/NASA, Not an official acct.\n",
      "Gale Crater, Mars\n",
      "Gale Crater, Mars\n",
      "51\n",
      "Following\n",
      "57.2K\n",
      "Followers\n",
      "Tweets\n",
      "Tweets & replies\n",
      "Media\n",
      "Likes\n",
      "Tweets\n",
      "Tweets & replies\n",
      "Media\n",
      "Likes\n"
     ]
    }
   ],
   "source": [
    "mars_weather = soup.find(class_=\"css-901oao css-16my406 r-1qd0xha r-ad9z0x r-bcqeeo r-qvutc0\")\n",
    "for w in mars_weather:\n",
    "    print(w.text)"
   ]
  },
  {
   "cell_type": "code",
   "execution_count": 45,
   "metadata": {},
   "outputs": [
    {
     "name": "stdout",
     "output_type": "stream",
     "text": [
      "New w:html\n",
      "New w:\n",
      "\n",
      "New w:\n",
      "\n",
      "New w:\n",
      "\n",
      "New w:\n",
      "\n",
      "New w:\n",
      "\n",
      "New w:\n",
      "\n",
      "New w:\n",
      "\n",
      "New w:\n",
      "\n",
      "New w:\n",
      "\n",
      "New w:\n",
      "\n",
      "New w:\n",
      "\n",
      "New w:\n",
      "\n",
      "New w:\n",
      "\n",
      "New w:\n",
      "\n",
      "New w:\n",
      "\n",
      "New w:\n",
      "\n",
      "New w:\n",
      "\n",
      "New w:\n",
      "\n",
      "New w:\n",
      "\n",
      "New w:\n",
      "\n",
      "New w:\n",
      "\n",
      "New w:\n",
      "\n",
      "New w:\n",
      "\n",
      "New w:\n",
      "\n",
      "New w:\n",
      "\n",
      "New w:\n",
      "\n",
      "New w:\n",
      "\n",
      "New w:\n",
      "\n",
      "New w:\n",
      "\n",
      "New w:\n",
      "\n",
      "New w:\n",
      "\n",
      "New w:\n",
      "\n",
      "New w:\n",
      "\n",
      "New w:\n",
      "\n",
      "New w:\n",
      "\n",
      "New w:\n",
      "\n",
      "New w:\n",
      "\n",
      "New w:\n",
      "\n",
      "New w:\n",
      "\n",
      "New w:\n",
      "\n",
      "New w:\n",
      "\n",
      "New w:\n",
      "\n",
      "New w:\n",
      "\n",
      "New w:\n",
      "\n",
      "New w:\n",
      "\n",
      "New w:\n",
      "\n",
      "New w:\n",
      "\n",
      "New w:\n",
      "\n",
      "New w:\n",
      "\n",
      "New w:\n",
      "\n",
      "New w:\n",
      "\n",
      "New w:\n",
      "\n",
      "New w:\n",
      "\n",
      "New w:\n",
      "\n",
      "New w:\n",
      "\n",
      "New w:\n",
      "\n",
      "New w:\n",
      "\n",
      "New w:\n",
      "\n",
      "New w:\n",
      "\n",
      "New w:\n",
      "\n",
      "New w:\n",
      "\n",
      "New w:\n",
      "\n",
      "New w:\n",
      "\n",
      "New w:\n",
      "\n",
      "New w:\n",
      "\n",
      "New w:\n",
      "\n",
      "New w:\n",
      "\n",
      "New w:\n",
      "\n",
      "New w:\n",
      "\n",
      "New w:\n",
      "\n",
      "New w:\n",
      "\n",
      "New w:\n",
      "\n",
      "New w:\n",
      "\n",
      "New w:\n",
      "\n",
      "New w:\n",
      "\n",
      "New w:\n",
      "\n",
      "New w:\n",
      "\n",
      "New w:\n",
      "\n",
      "New w:\n",
      "\n",
      "New w:html,body{height: 100%;}body{-ms-overflow-style:scrollbar;overflow-y:scroll;overscroll-behavior-y:none;}\n",
      "New w:\n",
      "\n",
      "New w:[stylesheet-group=\"0\"]{}\n",
      "html{-ms-text-size-adjust:100%;-webkit-text-size-adjust:100%;-webkit-tap-highlight-color:rgba(0,0,0,0);}\n",
      "body{margin:0;}\n",
      "button::-moz-focus-inner,input::-moz-focus-inner{border:0;padding:0;}\n",
      "input::-webkit-inner-spin-button,input::-webkit-outer-spin-button,input::-webkit-search-cancel-button,input::-webkit-search-decoration,input::-webkit-search-results-button,input::-webkit-search-results-decoration{display:none;}\n",
      "[stylesheet-group=\"0.1\"]{}\n",
      ":focus:not([data-focusvisible-polyfill]){outline: none;}\n",
      "[stylesheet-group=\"1\"]{}\n",
      ".css-1dbjc4n{-ms-flex-align:stretch;-ms-flex-direction:column;-ms-flex-negative:0;-ms-flex-preferred-size:auto;-webkit-align-items:stretch;-webkit-box-align:stretch;-webkit-box-direction:normal;-webkit-box-orient:vertical;-webkit-flex-basis:auto;-webkit-flex-direction:column;-webkit-flex-shrink:0;align-items:stretch;border:0 solid black;box-sizing:border-box;display:-webkit-box;display:-moz-box;display:-ms-flexbox;display:-webkit-flex;display:flex;flex-basis:auto;flex-direction:column;flex-shrink:0;margin-bottom:0px;margin-left:0px;margin-right:0px;margin-top:0px;min-height:0px;min-width:0px;padding-bottom:0px;padding-left:0px;padding-right:0px;padding-top:0px;position:relative;z-index:0;}\n",
      ".css-901oao{border:0 solid black;box-sizing:border-box;color:rgba(0,0,0,1.00);display:inline;font:14px system-ui,-apple-system,BlinkMacSystemFont,\"Segoe UI\",Roboto,Ubuntu,\"Helvetica Neue\",sans-serif;margin-bottom:0px;margin-left:0px;margin-right:0px;margin-top:0px;padding-bottom:0px;padding-left:0px;padding-right:0px;padding-top:0px;white-space:pre-wrap;word-wrap:break-word;}\n",
      ".css-16my406{color:inherit;font:inherit;white-space:inherit;}\n",
      "[stylesheet-group=\"2\"]{}\n",
      ".r-13awgt0{-ms-flex-negative:1;-ms-flex-positive:1;-ms-flex-preferred-size:0%;-webkit-box-flex:1;-webkit-flex-basis:0%;-webkit-flex-grow:1;-webkit-flex-shrink:1;flex-basis:0%;flex-grow:1;flex-shrink:1;}\n",
      ".r-4qtqp9{display:inline-block;}\n",
      ".r-ywje51{margin-bottom:auto;margin-left:auto;margin-right:auto;margin-top:auto;}\n",
      ".r-hvic4v{display:none;}\n",
      ".r-1adg3ll{display:block;}\n",
      "[stylesheet-group=\"2.2\"]{}\n",
      ".r-12vffkv&gt;*{pointer-events:auto;}\n",
      ".r-12vffkv{pointer-events:none!important;}\n",
      ".r-14lw9ot{background-color:rgba(255,255,255,1.00);}\n",
      ".r-1p0dtai{bottom:0px;}\n",
      ".r-1d2f490{left:0px;}\n",
      ".r-1xcajam{position:fixed;}\n",
      ".r-zchlnj{right:0px;}\n",
      ".r-ipm5af{top:0px;}\n",
      ".r-yyyyoo{fill:currentcolor;}\n",
      ".r-1xvli5t{height:1.25em;}\n",
      ".r-dnmrzs{max-width:100%;}\n",
      ".r-bnwqim{position:relative;}\n",
      ".r-1plcrui{vertical-align:text-bottom;}\n",
      ".r-lrvibr{-moz-user-select:none;-ms-user-select:none;-webkit-user-select:none;user-select:none;}\n",
      ".r-13gxpu9{color:rgba(29,161,242,1.00);}\n",
      ".r-wy61xf{height:72px;}\n",
      ".r-u8s1d{position:absolute;}\n",
      ".r-1blnp2b{width:72px;}\n",
      ".r-1ykxob0{top:60%;}\n",
      ".r-1b2b6em{line-height:2em;}\n",
      ".r-q4m81j{text-align:center;}\n",
      "New w:\n",
      "\n",
      "New w:Mars Weather (@MarsWxReport) / Twitter\n",
      "New w:\n",
      "\n",
      "New w:\n",
      "    <form action=\"https://mobile.twitter.com/i/nojs_router?path=%2Fmarswxreport%3Flang%3Den\" method=\"POST\" style=\"background-color: #fff; position: fixed; top: 0; left: 0; right: 0; bottom: 0; z-index: 9999;\">\n",
      "      <div style=\"font-size: 18px; font-family: Helvetica,sans-serif; line-height: 24px; margin: 10%; width: 80%;\">\n",
      "        <p>We've detected that JavaScript is disabled in your browser. Would you like to proceed to legacy Twitter?</p>\n",
      "        <p style=\"margin: 20px 0;\">\n",
      "          <button type=\"submit\" style=\"background-color: #1da1f2; border-radius: 100px; border: none; box-shadow: none; color: #fff; cursor: pointer; font-size: 14px; font-weight: bold; line-height: 20px; padding: 6px 16px;\">Yes</button>\n",
      "        </p>\n",
      "      </div>\n",
      "    </form>\n",
      "  \n",
      "New w:\n",
      "\n",
      "New w:Log in\n",
      "New w:Sign up\n",
      "New w:See new Tweets\n",
      "New w:Follow\n",
      "New w:Mars Weather\n",
      "New w:@MarsWxReport\n",
      "New w:Updates as avail from the REMS weather instrument aboard \n",
      "New w:@MarsCuriosity\n",
      "New w:.  Data credit: Centro deAstrobiologia, FMI, JPL/NASA, Not an official acct.\n",
      "New w:Gale Crater, Mars\n",
      "New w:mars.nasa.gov/news/8415/insi…\n",
      "New w:Joined August 2012\n",
      "New w:51\n",
      "New w: \n",
      "New w:Following\n",
      "New w:57.2K\n",
      "New w: \n",
      "New w:Followers\n",
      "New w:Tweets\n",
      "New w:Tweets & replies\n",
      "New w:Media\n",
      "New w:Likes\n",
      "New w:Tweets\n",
      "New w:Tweets & replies\n",
      "New w:Media\n",
      "New w:Likes\n",
      "New w:Mars Weather’s Tweets\n",
      "New w:Mars Weather\n",
      "New w: Retweeted\n",
      "New w:NASA Goddard\n",
      "New w:@NASAGoddard\n",
      "New w:·\n",
      "New w:15h\n",
      "New w:Check out the first map of Mars electric currents.\n",
      "\n",
      "\n",
      "New w:#viz\n",
      "New w: \n",
      "New w:#data\n",
      "New w: \n",
      "New w:#scicomm\n",
      "New w: \n",
      "New w:#dataviz\n",
      "New w:36\n",
      "New w:889\n",
      "New w:3.4K\n",
      "New w:Mars Weather\n",
      "New w:@MarsWxReport\n",
      "New w:·\n",
      "New w:18h\n",
      "New w:InSight sol 534 (2020-05-27) low -92.8ºC (-135.1ºF) high 0.9ºC (33.7ºF)\n",
      "winds from the SW at 4.8 m/s (10.8 mph) gusting to 18.8 m/s (42.1 mph)\n",
      "pressure at 7.20 hPa\n",
      "string found: InSight sol 534 (2020-05-27) low -92.8ºC (-135.1ºF) high 0.9ºC (33.7ºF)\n",
      "winds from the SW at 4.8 m/s (10.8 mph) gusting to 18.8 m/s (42.1 mph)\n",
      "pressure at 7.20 hPa\n",
      "InSight sol 534 (2020-05-27) low -92.8ºC (-135.1ºF) high 0.9ºC (33.7ºF)\n",
      "winds from the SW at 4.8 m/s (10.8 mph) gusting to 18.8 m/s (42.1 mph)\n",
      "pressure at 7.20 hPa\n"
     ]
    }
   ],
   "source": [
    "# Finds all text and searches for first weather string, assigning it to weather_str variable\n",
    "mars_weather = soup.find_all(text=True)\n",
    "for w in mars_weather:\n",
    "    if w.find('InSight sol')!=-1:\n",
    "        weather_str = w\n",
    "        break\n",
    "    "
   ]
  },
  {
   "cell_type": "code",
   "execution_count": 42,
   "metadata": {},
   "outputs": [
    {
     "ename": "NameError",
     "evalue": "name 'weather_str' is not defined",
     "output_type": "error",
     "traceback": [
      "\u001b[1;31m---------------------------------------------------------------------------\u001b[0m",
      "\u001b[1;31mNameError\u001b[0m                                 Traceback (most recent call last)",
      "\u001b[1;32m<ipython-input-42-63e9aa87d54e>\u001b[0m in \u001b[0;36m<module>\u001b[1;34m\u001b[0m\n\u001b[1;32m----> 1\u001b[1;33m \u001b[0mprint\u001b[0m\u001b[1;33m(\u001b[0m\u001b[0mweather_str\u001b[0m\u001b[1;33m)\u001b[0m\u001b[1;33m\u001b[0m\u001b[1;33m\u001b[0m\u001b[0m\n\u001b[0m",
      "\u001b[1;31mNameError\u001b[0m: name 'weather_str' is not defined"
     ]
    }
   ],
   "source": [
    "print(weather_str)"
   ]
  }
 ],
 "metadata": {
  "kernelspec": {
   "display_name": "Python 3",
   "language": "python",
   "name": "python3"
  },
  "language_info": {
   "codemirror_mode": {
    "name": "ipython",
    "version": 3
   },
   "file_extension": ".py",
   "mimetype": "text/x-python",
   "name": "python",
   "nbconvert_exporter": "python",
   "pygments_lexer": "ipython3",
   "version": "3.7.4"
  }
 },
 "nbformat": 4,
 "nbformat_minor": 2
}
